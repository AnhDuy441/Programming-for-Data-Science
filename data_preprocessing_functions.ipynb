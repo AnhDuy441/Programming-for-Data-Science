{
 "cells": [
  {
   "cell_type": "markdown",
   "id": "7f7afc3a",
   "metadata": {},
   "source": [
    "# Các thư viện cần thiết"
   ]
  },
  {
   "cell_type": "code",
   "execution_count": 2,
   "id": "8d481081",
   "metadata": {},
   "outputs": [],
   "source": [
    "import pandas as pd\n",
    "import numpy as np"
   ]
  },
  {
   "cell_type": "markdown",
   "id": "998cf638",
   "metadata": {},
   "source": [
    "# Các thông số cần thiết"
   ]
  },
  {
   "cell_type": "code",
   "execution_count": 3,
   "id": "415eac8b",
   "metadata": {},
   "outputs": [],
   "source": [
    "def get_data_summary(df=pd.DataFrame):\n",
    "    \"\"\"\n",
    "    Tính toán các chỉ số thống kê mô tả cho các cột số trong DataFrame.\n",
    "\n",
    "    Args:\n",
    "        df (DataFrame): DataFrame chứa dữ liệu.\n",
    "\n",
    "    Returns:\n",
    "        summary_stats (DataFrame): DataFrame chứa các chỉ số thống kê cho từng cột số.\n",
    "    \"\"\"\n",
    "\n",
    "    # Cột dữ liệu kiểu số\n",
    "    numerical_columns = df.select_dtypes(include=np.number).copy()\n",
    "\n",
    "    # Tính toán các giá trị cần thiết\n",
    "    summary_stats = numerical_columns.round(1).agg([\n",
    "        'count',  # Số lượng giá trị không thiếu\n",
    "        lambda column: ((column.isnull().sum() / column.shape[0]) * 100),  # Tỉ lệ giá trị thiếu\n",
    "        'min',\n",
    "        'max',\n",
    "        'mean',  # Giá trị trung bình\n",
    "        'median', # Trung vị\n",
    "        'std',  # Độ lệch chuẩn\n",
    "        'skew', # Độ lệch\n",
    "        lambda column: column.quantile(0.25),  # Tứ phân vị thứ nhất\n",
    "        lambda column: column.quantile(0.75)  # Tứ phân vị thứ ba\n",
    "    ])\n",
    "\n",
    "    # Đặt lại tên các hàng để dễ nhận diện\n",
    "    summary_stats.index = ['Count', 'Missing ratio', 'Min', 'Max', 'Mean', 'Median', 'Std', 'Skewness', 'Lower quartile', 'Upper quartile']\n",
    "\n",
    "    return summary_stats"
   ]
  },
  {
   "cell_type": "markdown",
   "id": "aaa6213c",
   "metadata": {},
   "source": [
    "# Kiểm tra dữ liệu missing"
   ]
  },
  {
   "cell_type": "code",
   "execution_count": 4,
   "id": "3729265d",
   "metadata": {},
   "outputs": [],
   "source": [
    "def handle_missing_data(df=pd.DataFrame, handle=0):\n",
    "    \"\"\"\n",
    "    Tính toán tỉ lệ giá trị thiếu trong DataFrame và xử lý chúng.\n",
    "\n",
    "    Args:\n",
    "        df (DataFrame): DataFrame chứa dữ liệu.\n",
    "        handle (str, optional): Phương thức xử lý giá trị thiếu.\n",
    "            - 0: Xóa các dòng có ít nhất một giá trị thiếu.\n",
    "            - 1: Điền vào các giá trị thiếu bằng 0.\n",
    "            - 2: Điền vào các giá trị thiếu bằng trung bình của cột.\n",
    "            - 3: Điền bằng phương pháp nội suy tuyến tính.\n",
    "\n",
    "    Returns:\n",
    "        tuple: Một tuple chứa hai DataFrame và một Series:\n",
    "            - new_df (DataFrame): DataFrame sau khi xử lý giá trị thiếu.\n",
    "            - missing_ratio (Series): Series chứa tỉ lệ giá trị thiếu của các thuộc tính.\n",
    "            - missing_rows (DataFrame): DataFrame chứa các dòng bị thiếu.\n",
    "    \"\"\"\n",
    "    \n",
    "    # Xác định tỉ lệ giá trị thiếu\n",
    "    if df.isna().sum().sum() == 0:\n",
    "        print('Dữ liệu không có giá trị thiếu.')\n",
    "    else:\n",
    "        missing_ratio = df.isnull().mean()\n",
    "\n",
    "    new_df = df.copy()\n",
    "    missing_rows = df[df.isnull().any(axis=1)]  # Lấy các dòng có ít nhất một giá trị thiếu\n",
    "\n",
    "    # Xử lý giá trị thiếu\n",
    "    if handle == 0:\n",
    "        new_df = df.dropna()            # Xóa các dòng có ít nhất một giá trị thiếu\n",
    "    elif handle == 1:\n",
    "        new_df = df.fillna(0)           # Điền vào các giá trị thiếu bằng 0\n",
    "    elif handle == 2:\n",
    "        new_df = df.fillna(df.mean())   # Điền vào các giá trị thiếu bằng trung bình của cột\n",
    "    elif handle == 3:\n",
    "        new_df = df.interpolate()       # Điền bằng phương pháp nội suy tuyến tính\n",
    "\n",
    "    return new_df, missing_ratio, missing_rows"
   ]
  },
  {
   "cell_type": "markdown",
   "id": "6208db11",
   "metadata": {},
   "source": [
    "# Kiểm tra dữ liệu duplicates"
   ]
  },
  {
   "cell_type": "code",
   "execution_count": null,
   "id": "3838d796",
   "metadata": {},
   "outputs": [],
   "source": [
    "def handle_duplicate_data(df=pd.DataFrame, drop=False):\n",
    "    \"\"\"\n",
    "    Xác định các dòng dữ liệu bị trùng lặp trong DataFrame và xóa chúng nếu muốn.\n",
    "\n",
    "    Args:\n",
    "        df (DataFrame): DataFrame chứa dữ liệu.\n",
    "        drop (bool, optional): Nếu True, xóa các dòng bị trùng lặp. Mặc định là False.\n",
    "\n",
    "    Returns:\n",
    "        tuple: Một tuple chứa hai DataFrame:\n",
    "            - new_df (DataFrame): DataFrame sau khi xóa các dòng bị trùng lặp.\n",
    "            - duplicates (DataFrame): DataFrame chứa các dòng dữ liệu bị trùng lặp.\n",
    "    \"\"\"\n",
    "\n",
    "    # Số dòng dữ liệu bị trùng lặp\n",
    "    num_dup_rows = df.duplicated().sum()\n",
    "\n",
    "    new_df = df.copy()\n",
    "    duplicates = pd.DataFrame()\n",
    "    if num_dup_rows == 0:\n",
    "        print('Dữ liệu không bị trùng lặp.')\n",
    "    else:\n",
    "        # Các dòng bị trùng lặp\n",
    "        duplicates = df[df.duplicated()]\n",
    "        print(f'Dữ liệu có {num_dup_rows} dòng bị trùng lặp.')\n",
    "        if drop:\n",
    "            new_df = df.drop_duplicates()\n",
    "            print('Xóa thành công các dòng bị trùng lặp.')\n",
    "\n",
    "    return new_df, duplicates"
   ]
  },
  {
   "cell_type": "markdown",
   "id": "3191b70e",
   "metadata": {},
   "source": [
    "# Kiểm tra dữ liệu outliers"
   ]
  },
  {
   "cell_type": "code",
   "execution_count": 6,
   "id": "ee21feef",
   "metadata": {},
   "outputs": [],
   "source": [
    "def handle_outlier_data(df=pd.DataFrame, handle=0):\n",
    "    \"\"\"\n",
    "    Xử lý ngoại lai trong DataFrame.\n",
    "\n",
    "    Args:\n",
    "        df (DataFrame): DataFrame chứa dữ liệu.\n",
    "        handle (str): Phương pháp xử lý ngoại lai.\n",
    "            - 0: Sử dụng phương pháp Z-score.\n",
    "            - 1: Sử dụng phương pháp tứ phân vị.\n",
    "\n",
    "    Returns:\n",
    "        tuple: Một tuple chứa hai DataFrame:\n",
    "            - new_df (DataFrame): DataFrame sau khi xử lý các giá trị ngoại lai.\n",
    "            - outliers (DataFrame): DataFrame chứa các giá trị ngoại lai.\n",
    "    \"\"\"\n",
    "\n",
    "    new_df = df.copy()\n",
    "    numerical_columns = df.select_dtypes(include=np.number).copy()  # Cột dữ liệu kiểu số\n",
    "    outliers = pd.DataFrame()\n",
    "\n",
    "    if handle == 0:\n",
    "        # Tính Z-score\n",
    "        for column in numerical_columns:\n",
    "            col_mean = numerical_columns[column].mean()\n",
    "            col_std = numerical_columns[column].std()\n",
    "            numerical_columns[column] = (numerical_columns[column] - col_mean) / col_std\n",
    "        \n",
    "        # Xác định ngoại lai bằng Z-score\n",
    "        threshold = 3\n",
    "        z_scores = numerical_columns.abs() > threshold\n",
    "        outliers = df[z_scores.any(axis=1)]\n",
    "        new_df = df[~z_scores.any(axis=1)]\n",
    "    elif handle == 1:\n",
    "        # Tính tứ phân vị và xác định ngoại lai\n",
    "        Q1 = numerical_columns.quantile(0.25)\n",
    "        Q3 = numerical_columns.quantile(0.75)\n",
    "        IQR = Q3 - Q1\n",
    "\n",
    "        # Tính giới hạn trên và dưới\n",
    "        lower_bound = Q1 - 1.5 * IQR\n",
    "        upper_bound = Q3 + 1.5 * IQR\n",
    "\n",
    "        # Tạo DataFrame đánh dấu ngoại lai\n",
    "        is_outlier = (numerical_columns < lower_bound) | (numerical_columns > upper_bound)\n",
    "        outliers = df[is_outlier.any(axis=1)]\n",
    "        new_df = df[~is_outlier.any(axis=1)]\n",
    "    else:\n",
    "        print(\"Phương pháp xử lý ngoại lai không hợp lệ.\")\n",
    "\n",
    "    return new_df, outliers"
   ]
  }
 ],
 "metadata": {
  "kernelspec": {
   "display_name": "Python 3",
   "language": "python",
   "name": "python3"
  },
  "language_info": {
   "codemirror_mode": {
    "name": "ipython",
    "version": 3
   },
   "file_extension": ".py",
   "mimetype": "text/x-python",
   "name": "python",
   "nbconvert_exporter": "python",
   "pygments_lexer": "ipython3",
   "version": "3.12.7"
  }
 },
 "nbformat": 4,
 "nbformat_minor": 5
}
